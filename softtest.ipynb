{
 "cells": [
  {
   "cell_type": "code",
   "execution_count": 1,
   "id": "bcd6dee8-d7b3-446d-9d56-969bc5ca4541",
   "metadata": {},
   "outputs": [],
   "source": [
    "from hypergraph import HyperGraph\n",
    "\n",
    "h = HyperGraph.fromHyperbench(\"/home/okulmus/Documents/OldBenchmarks/benchmark/hyperbench/1.dtl\")"
   ]
  },
  {
   "cell_type": "code",
   "execution_count": 2,
   "id": "f5f5bef3-89c7-4c47-8c65-21f2bd8489fc",
   "metadata": {},
   "outputs": [],
   "source": [
    "def all_choose_k(S, k):\n",
    "    from itertools import chain, combinations\n",
    "    return chain(*(combinations(S, kp) for kp in range(1,k+1)))\n",
    "#\n",
    "def all_lambdas(E, k):\n",
    "    for es in all_choose_k(E, k):\n",
    "        yield set.union(*es)"
   ]
  },
  {
   "cell_type": "code",
   "execution_count": 7,
   "id": "f11e5aba-87c2-40a5-8f2c-105a202372a4",
   "metadata": {},
   "outputs": [
    {
     "name": "stdout",
     "output_type": "stream",
     "text": [
      "The autoreload extension is already loaded. To reload it, use:\n",
      "  %reload_ext autoreload\n"
     ]
    }
   ],
   "source": [
    "%reload_ext line_profiler\n",
    "%load_ext autoreload\n",
    "%autoreload 2\n",
    "\n",
    "from functools import partial\n",
    "from ctdcheck import Block\n",
    "from ctdcheck import VertSet\n",
    "from hypergraph import HyperGraph\n",
    "\n",
    "# (over approximates) the bags produced by the LogK algorithm\n",
    "def computesoftk(h, k):\n",
    "    softk = list()\n",
    "    for P in all_lambdas(h.E,k):\n",
    "        for C in h.separate(P, only_vertices=True):\n",
    "            for L in all_lambdas(h.E, k):\n",
    "                B = set.intersection(C, L)\n",
    "                if len(B) > 1 and B not in softk:\n",
    "                    softk.append(B)\n",
    "    return softk\n",
    "    \n",
    "# computes the blocks of a bag by computing its components w.r.t. h\n",
    "def bag_to_blocks(h,B):  \n",
    "    blocks = list()\n",
    "    for C in h.separate(B, only_vertices=True):\n",
    "        blocks.append(Block(VertSet(B),VertSet(C)))\n",
    "    blocks.append(Block(VertSet(B),VertSet({})))  # adding trivial block too\n",
    "    return blocks\n",
    "\n",
    "# Same as  computeosftK, but returns directly the blocks\n",
    "def computesoftkBlocks(h, k):\n",
    "    out = list()\n",
    "    listOfLists = map(partial(bag_to_blocks,h),computesoftk(h,k))\n",
    "    for ll in listOfLists:\n",
    "        for l in ll:\n",
    "            out.append(l)\n",
    "    return out\n",
    "\n",
    "\n",
    "\n",
    "\n",
    "from glob import glob\n",
    "\n",
    "for path in glob(\"../hyperbench/1.dtl\"):\n",
    "    h = HyperGraph.fromHyperbench(path)\n",
    "    #print(len(h.V), len(h.E))\n",
    "    _ = computesoftk(h, 3)"
   ]
  },
  {
   "cell_type": "code",
   "execution_count": 4,
   "id": "93bd4d9b-7449-41b4-b269-a7efcdc3fd2f",
   "metadata": {},
   "outputs": [
    {
     "data": {
      "text/plain": [
       "Timer unit: 1e-09 s\n",
       "\n",
       "Total time: 0.300876 s\n",
       "File: /tmp/ipykernel_336005/3625937043.py\n",
       "Function: computesoftk at line 11\n",
       "\n",
       "Line #      Hits         Time  Per Hit   % Time  Line Contents\n",
       "==============================================================\n",
       "    11                                           def computesoftk(h, k):\n",
       "    12         1       1066.0   1066.0      0.0      softk = list()\n",
       "    13       378     235353.0    622.6      0.1      for P in all_lambdas(h.E,k):\n",
       "    14      1214   18682654.0  15389.3      6.2          for C in h.separate(P, only_vertices=True):\n",
       "    15    316386  147388270.0    465.8     49.0              for L in all_lambdas(h.E, k):\n",
       "    16    315549   66205869.0    209.8     22.0                  B = set.intersection(C, L)\n",
       "    17    315549   68322904.0    216.5     22.7                  if len(B) > 1 and B not in softk:\n",
       "    18       243      39620.0    163.0      0.0                      softk.append(B)\n",
       "    19         1        545.0    545.0      0.0      return softk"
      ]
     },
     "metadata": {},
     "output_type": "display_data"
    }
   ],
   "source": [
    "%lprun -f computesoftk computesoftk(h,3)"
   ]
  },
  {
   "cell_type": "code",
   "execution_count": 8,
   "id": "c52a1163-03ef-4bc1-b02d-74440722e6d6",
   "metadata": {},
   "outputs": [
    {
     "data": {
      "text/plain": [
       "Timer unit: 1e-09 s\n",
       "\n",
       "Total time: 0.228984 s\n",
       "File: /tmp/ipykernel_337936/3625937043.py\n",
       "Function: computesoftkBlocks at line 30\n",
       "\n",
       "Line #      Hits         Time  Per Hit   % Time  Line Contents\n",
       "==============================================================\n",
       "    30                                           def computesoftkBlocks(h, k):\n",
       "    31         1       1237.0   1237.0      0.0      out = list()\n",
       "    32         1  218210593.0    2e+08     95.3      listOfLists = map(partial(bag_to_blocks,h),computesoftk(h,k))\n",
       "    33       244   10573823.0  43335.3      4.6      for ll in listOfLists:\n",
       "    34      1081     119775.0    110.8      0.1          for l in ll:\n",
       "    35       838      78634.0     93.8      0.0              out.append(l)\n",
       "    36         1        289.0    289.0      0.0      return out"
      ]
     },
     "metadata": {},
     "output_type": "display_data"
    }
   ],
   "source": [
    "%lprun -f computesoftkBlocks computesoftkBlocks(h,3)"
   ]
  },
  {
   "cell_type": "code",
   "execution_count": 6,
   "id": "42cbecbe-bfd4-43f0-b3ad-fab82c3aa584",
   "metadata": {},
   "outputs": [
    {
     "data": {
      "text/plain": [
       "1583"
      ]
     },
     "execution_count": 6,
     "metadata": {},
     "output_type": "execute_result"
    }
   ],
   "source": [
    "import os\n",
    "\n",
    "\n",
    "c=0\n",
    "for path in glob(\"/home/okulmus/Documents/OldBenchmarks/benchmark/hyperbench/*\"):\n",
    "    if os.path.isdir(path):\n",
    "        continue\n",
    "    h = HyperGraph.fromHyperbench(path)\n",
    "    if len(h.E) <= 33:\n",
    "        c += 1\n",
    "c"
   ]
  },
  {
   "cell_type": "code",
   "execution_count": 6,
   "id": "63ec5d2f-6c98-438e-8b12-432110236ef5",
   "metadata": {},
   "outputs": [],
   "source": [
    "from ctdcheck import CTDCheck\n",
    "from hypergraph import HyperGraph\n",
    "\n",
    "h = HyperGraph.fromHyperbench(\"/home/okulmus/Documents/OldBenchmarks/benchmark/hyperbench/1.dtl\")\n",
    "\n",
    "ctd = CTDCheck(h)\n",
    "\n",
    "blocks = computesoftkBlocks(h,3)\n",
    "\n",
    "for b in blocks:\n",
    "    ctd.addBlock(b)"
   ]
  },
  {
   "cell_type": "code",
   "execution_count": 16,
   "id": "aa064027-efe3-4b83-a3c5-c4e7f4b5326a",
   "metadata": {},
   "outputs": [
    {
     "ename": "AssertionError",
     "evalue": "",
     "output_type": "error",
     "traceback": [
      "\u001b[0;31m---------------------------------------------------------------------------\u001b[0m",
      "\u001b[0;31mAssertionError\u001b[0m                            Traceback (most recent call last)",
      "Cell \u001b[0;32mIn[16], line 18\u001b[0m\n\u001b[1;32m     14\u001b[0m h \u001b[38;5;241m=\u001b[39m HyperGraph\u001b[38;5;241m.\u001b[39mfromHyperbench(\u001b[38;5;124m\"\u001b[39m\u001b[38;5;124m/home/okulmus/Documents/OldBenchmarks/benchmark/hyperbench/1.dtl\u001b[39m\u001b[38;5;124m\"\u001b[39m)\n\u001b[1;32m     16\u001b[0m ctd \u001b[38;5;241m=\u001b[39m CTDCheck(h)\n\u001b[0;32m---> 18\u001b[0m blocks \u001b[38;5;241m=\u001b[39m \u001b[43mcomputesoftkBlocks\u001b[49m\u001b[43m(\u001b[49m\u001b[43mh\u001b[49m\u001b[43m,\u001b[49m\u001b[38;5;241;43m3\u001b[39;49m\u001b[43m)\u001b[49m\n\u001b[1;32m     20\u001b[0m \u001b[38;5;28;01mfor\u001b[39;00m b \u001b[38;5;129;01min\u001b[39;00m blocks:\n\u001b[1;32m     21\u001b[0m     ctd\u001b[38;5;241m.\u001b[39maddBlock(b)\n",
      "Cell \u001b[0;32mIn[7], line 33\u001b[0m, in \u001b[0;36mcomputesoftkBlocks\u001b[0;34m(h, k)\u001b[0m\n\u001b[1;32m     31\u001b[0m out \u001b[38;5;241m=\u001b[39m \u001b[38;5;28mlist\u001b[39m()\n\u001b[1;32m     32\u001b[0m listOfLists \u001b[38;5;241m=\u001b[39m \u001b[38;5;28mmap\u001b[39m(partial(bag_to_blocks,h),computesoftk(h,k))\n\u001b[0;32m---> 33\u001b[0m \u001b[43m\u001b[49m\u001b[38;5;28;43;01mfor\u001b[39;49;00m\u001b[43m \u001b[49m\u001b[43mll\u001b[49m\u001b[43m \u001b[49m\u001b[38;5;129;43;01min\u001b[39;49;00m\u001b[43m \u001b[49m\u001b[43mlistOfLists\u001b[49m\u001b[43m:\u001b[49m\n\u001b[1;32m     34\u001b[0m \u001b[43m    \u001b[49m\u001b[38;5;28;43;01mfor\u001b[39;49;00m\u001b[43m \u001b[49m\u001b[43ml\u001b[49m\u001b[43m \u001b[49m\u001b[38;5;129;43;01min\u001b[39;49;00m\u001b[43m \u001b[49m\u001b[43mll\u001b[49m\u001b[43m:\u001b[49m\n\u001b[1;32m     35\u001b[0m \u001b[43m        \u001b[49m\u001b[43mout\u001b[49m\u001b[38;5;241;43m.\u001b[39;49m\u001b[43mappend\u001b[49m\u001b[43m(\u001b[49m\u001b[43ml\u001b[49m\u001b[43m)\u001b[49m\n",
      "Cell \u001b[0;32mIn[7], line 25\u001b[0m, in \u001b[0;36mbag_to_blocks\u001b[0;34m(h, B)\u001b[0m\n\u001b[1;32m     23\u001b[0m blocks \u001b[38;5;241m=\u001b[39m \u001b[38;5;28mlist\u001b[39m()\n\u001b[1;32m     24\u001b[0m \u001b[38;5;28;01mfor\u001b[39;00m C \u001b[38;5;129;01min\u001b[39;00m h\u001b[38;5;241m.\u001b[39mseparate(B, only_vertices\u001b[38;5;241m=\u001b[39m\u001b[38;5;28;01mTrue\u001b[39;00m):\n\u001b[0;32m---> 25\u001b[0m     blocks\u001b[38;5;241m.\u001b[39mappend(\u001b[43mBlock\u001b[49m\u001b[43m(\u001b[49m\u001b[43mVertSet\u001b[49m\u001b[43m(\u001b[49m\u001b[43mB\u001b[49m\u001b[43m)\u001b[49m\u001b[43m,\u001b[49m\u001b[43mVertSet\u001b[49m\u001b[43m(\u001b[49m\u001b[43mC\u001b[49m\u001b[43m)\u001b[49m\u001b[43m)\u001b[49m)\n\u001b[1;32m     26\u001b[0m blocks\u001b[38;5;241m.\u001b[39mappend(Block(VertSet(B),VertSet({})))  \u001b[38;5;66;03m# adding trivial block too\u001b[39;00m\n\u001b[1;32m     27\u001b[0m \u001b[38;5;28;01mreturn\u001b[39;00m blocks\n",
      "File \u001b[0;32m~/Desktop/ctdPython/ctdcheck.py:16\u001b[0m, in \u001b[0;36mBlock.__init__\u001b[0;34m(self, head, tail)\u001b[0m\n\u001b[1;32m     15\u001b[0m \u001b[38;5;28;01mdef\u001b[39;00m \u001b[38;5;21m__init__\u001b[39m(\u001b[38;5;28mself\u001b[39m,head,tail):\n\u001b[0;32m---> 16\u001b[0m     \u001b[38;5;28;01massert\u001b[39;00m(\u001b[38;5;28mtype\u001b[39m(head) \u001b[38;5;241m==\u001b[39m VertSet)\n\u001b[1;32m     17\u001b[0m     \u001b[38;5;28;01massert\u001b[39;00m(\u001b[38;5;28mtype\u001b[39m(tail) \u001b[38;5;241m==\u001b[39m VertSet)\n\u001b[1;32m     18\u001b[0m     \u001b[38;5;28mself\u001b[39m\u001b[38;5;241m.\u001b[39mhead \u001b[38;5;241m=\u001b[39m head\n",
      "\u001b[0;31mAssertionError\u001b[0m: "
     ]
    }
   ],
   "source": [
    "\n",
    "\n",
    "%aimport ctdcheck\n",
    "%aimport hypergraph\n"
   ]
  },
  {
   "cell_type": "code",
   "execution_count": null,
   "id": "590c54b9-036f-47dd-a4b1-f1b1213ab8a8",
   "metadata": {},
   "outputs": [],
   "source": []
  },
  {
   "cell_type": "code",
   "execution_count": null,
   "id": "ee968677-cd87-4461-a892-03805303fb0b",
   "metadata": {},
   "outputs": [],
   "source": []
  }
 ],
 "metadata": {
  "kernelspec": {
   "display_name": "Python 3 (ipykernel)",
   "language": "python",
   "name": "python3"
  },
  "language_info": {
   "codemirror_mode": {
    "name": "ipython",
    "version": 3
   },
   "file_extension": ".py",
   "mimetype": "text/x-python",
   "name": "python",
   "nbconvert_exporter": "python",
   "pygments_lexer": "ipython3",
   "version": "3.12.3"
  }
 },
 "nbformat": 4,
 "nbformat_minor": 5
}
